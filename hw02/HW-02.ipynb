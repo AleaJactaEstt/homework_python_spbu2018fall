{
 "cells": [
  {
   "cell_type": "markdown",
   "metadata": {},
   "source": [
    "## Задание № 0 (для знакомых с LaTeX)\n",
    "\n",
    "Наберите в LaTeX формулу (для дробей использовать &bsol;frac и &bsol;cfrac (для многоэтажных))\n",
    "\n",
    "![Я что-то нажал и всё пропало](https://a.radikal.ru/a06/1810/7a/228b571a4336.png)"
   ]
  },
  {
   "cell_type": "markdown",
   "metadata": {},
   "source": [
    "$$\\frac{K}{2}[ \\xi (B+\\gamma C) - \\pi  / \\omega \\cos{\\beta} \\sinh {\\alpha}] / (\\sin^2{\\beta} + \\sinh^2{\\alpha}) $$\n",
    "$$-j\\frac{\\pi K}{4}(1-\\xi^2)^{-1/2}\\sin{\\beta}/(\\cosh{\\alpha} + \\cos{\\beta}).$$\n",
    "$$\\alpha = \\pi\\xi/\\omega, \\quad \\beta = \\pi(1-\\xi^2)^{1/2}/\\omega, \\quad \\gamma = \\alpha/\\beta$$\n",
    "$$ B = \\alpha \\cos{\\beta}\\sinh{\\alpha} + \\beta \\sin{\\beta} \\cosh{\\alpha} $$\n",
    "$$C = \\alpha\\sin{\\beta}\\cosh{\\alpha} - \\beta \\cos{\\beta}\\sinh{\\alpha}$$"
   ]
  },
  {
   "cell_type": "markdown",
   "metadata": {},
   "source": [
    "## Задание № 1\n",
    "\n",
    "Напишите функцию, которой на вход подаются \n",
    "- начальное целое значение ($a$, по умолчанию = 1000) \n",
    "- конечное целое значение ($b$, по умолчанию = 5000). \n",
    "\n",
    "Программа должна вывести список всех чисел между $a$ и $b$, в записи которых только чётные числа."
   ]
  },
  {
   "cell_type": "code",
   "execution_count": 1,
   "metadata": {},
   "outputs": [],
   "source": [
    "def task1(a,b):\n",
    "    return [i for i in range(a+1,b) if str(i).count('0') + str(i).count('2') + str(i).count('4') + str(i).count('6') + str(i).count('8') == len(str(i))]"
   ]
  },
  {
   "cell_type": "code",
   "execution_count": 2,
   "metadata": {},
   "outputs": [
    {
     "data": {
      "text/plain": [
       "[2, 4, 6, 8, 20, 22, 24]"
      ]
     },
     "execution_count": 2,
     "metadata": {},
     "output_type": "execute_result"
    }
   ],
   "source": [
    "task1(1,25)"
   ]
  },
  {
   "cell_type": "markdown",
   "metadata": {},
   "source": [
    "## Задание № 2\n",
    "\n",
    "Напишите функцию от двух аргументов $n$, $m$, которая выводит каждый $m$-е из первых $n$ строк треугольника Паскаля.\n",
    "\n",
    "Примеры вызовов: \n",
    "```python\n",
    "    pascal_triangle(10)\n",
    "```\n",
    "должен вывести первые 10 строк;\n",
    "\n",
    "\n",
    "```python\n",
    "    pascal_triangle(10, step = 3)\n",
    "```\n",
    "должен вывести 1, 4, 7, 10 строки.\n",
    "\n",
    "```python\n",
    "    pascal_triangle(10, 3)\n",
    "```\n",
    "Ошибка TypeError                                 \n",
    "\n",
    "__Подсказка__: может понадобится функция __zip__. Она позволяет итерироваться сразу по нескольким итерируемым объектам:\n",
    "\n",
    "```python\n",
    "a = [10, 20, 30, 40]\n",
    "b = ['a', 'b', 'c', 'd', 'e']\n",
    "c = [1.0, 3.0, 5.0, 8.0, 9.0, 11.0]\n",
    "for i, j, k in zip(a, b, c):\n",
    "     print(i, j, k)\n",
    "```"
   ]
  },
  {
   "cell_type": "code",
   "execution_count": 14,
   "metadata": {},
   "outputs": [
    {
     "name": "stdout",
     "output_type": "stream",
     "text": [
      "10 a 1.0\n",
      "20 b 3.0\n",
      "30 c 5.0\n",
      "40 d 8.0\n"
     ]
    }
   ],
   "source": [
    "a = [10, 20, 30, 40]\n",
    "b = ['a', 'b', 'c', 'd', 'e']\n",
    "c = [1.0, 3.0, 5.0, 8.0, 9.0, 11.0]\n",
    "for i, j, k in zip(a, b, c):\n",
    "     print(i, j, k)"
   ]
  },
  {
   "cell_type": "code",
   "execution_count": 4,
   "metadata": {},
   "outputs": [
    {
     "name": "stdout",
     "output_type": "stream",
     "text": [
      "1\n",
      "1 3 3 1\n",
      "1 6 15 20 15 6 1\n",
      "1 9 36 84 126 126 84 36 9 1\n"
     ]
    }
   ],
   "source": [
    "def paskal_triangle(n,*,step=1):\n",
    "    print(1)\n",
    "    prev_line = [1]\n",
    "    current_line = [1]\n",
    "    for i in range(1,n):\n",
    "        current_line = []\n",
    "        \n",
    "        for j in range(len(prev_line)-1):\n",
    "            current_line.append(prev_line[j] + prev_line[j+1])\n",
    "            \n",
    "        current_line = [1] + current_line + [1]\n",
    "        \n",
    "        prev_line = current_line\n",
    "        if i%step == 0:\n",
    "            print(*current_line)\n",
    "            \n",
    "paskal_triangle(10,step=3)"
   ]
  },
  {
   "cell_type": "markdown",
   "metadata": {},
   "source": [
    "## Задание № 3\n",
    "\n",
    "Напишите функцию, принимающую произвольное число произвольных аргументов и возвращающая словарь с парами \n",
    "```\n",
    "<название_типа данных>: <количество элементов этого типа данных среди переданных аргументов> \n",
    "```"
   ]
  },
  {
   "cell_type": "code",
   "execution_count": 72,
   "metadata": {},
   "outputs": [
    {
     "data": {
      "text/plain": [
       "{'int': 3}"
      ]
     },
     "execution_count": 72,
     "metadata": {},
     "output_type": "execute_result"
    }
   ],
   "source": [
    "def task3(*args):\n",
    "    res = dict()\n",
    "    for i in args:\n",
    "        res[i.__class__.__name__] = res.get(i.__class__.__name__,0) + 1\n",
    "    return res\n",
    "    \n",
    "task3(1,2,3)"
   ]
  },
  {
   "cell_type": "markdown",
   "metadata": {},
   "source": [
    "## Задание № 4\n",
    "Напишите собственную реализацию стандартных тригонометрических (и не только) функций - $cos, sin, ln, e$\n",
    "\n",
    "- Оформьте в ячейке markdown соответствующие формулы.\n",
    "- Напишите функции my_sin(), my_cos(), ... - аргументы - **углы**, не радианы\n",
    "- Проверьте, чтобы считалось и от комплексного аргумента\n",
    "- Сравните (удобным вам способом) полученные вами результаты с результатами стандартных методов "
   ]
  },
  {
   "cell_type": "code",
   "execution_count": 3,
   "metadata": {},
   "outputs": [
    {
     "name": "stdout",
     "output_type": "stream",
     "text": [
      "3.141592653589793\n",
      "3.141592653589793\n",
      "0.5000000000000001\n",
      "0.7071067811865476\n"
     ]
    }
   ],
   "source": [
    "import math\n",
    "import cmath\n",
    "# перевод из градусов в радианы\n",
    "print(math.pi)\n",
    "print(math.radians(180))\n",
    "# косинус\n",
    "print(math.cos(math.radians(60))) \n",
    "# cинус\n",
    "print(math.sin(math.radians(45)))  "
   ]
  },
  {
   "cell_type": "code",
   "execution_count": 4,
   "metadata": {},
   "outputs": [
    {
     "name": "stdout",
     "output_type": "stream",
     "text": [
      "0.0 0.0 0.0\n"
     ]
    }
   ],
   "source": [
    "##### fact = lambda n,y: y if n <= 1 else fact(n-1,y*n)\n",
    "def my_sin(x):\n",
    "    fact = lambda n,y: y if n <= 1 else fact(n-1,y*n)\n",
    "    x_rad = x*(3.1415926535897932)/180\n",
    "    return sum([(-1)**i*x_rad**(2*i+1)/fact(2*i+1,1) for i in range(0,10)])\n",
    "\n",
    "def my_cos(x):\n",
    "    fact = lambda n,y: y if n <= 1 else fact(n-1,y*n)\n",
    "    x_rad = x*(3.1415926535897932)/180\n",
    "    return sum([(-1)**i*x_rad**(2*i)/fact(2*i,1) for i in range(0,10)])\n",
    "\n",
    "def my_exp(x):\n",
    "    fact = lambda n,y: y if n <= 1 else fact(n-1,y*n)\n",
    "    return sum([(x**i)/fact(i,1) for i in range(0,1000)])\n",
    "\n",
    "def my_log(x,*, base=my_exp(1)):\n",
    "    fact = lambda n,y: y if n <= 1 else fact(n-1,y*n)\n",
    "    nat_log = lambda _: sum([(-1)**(i+1)*((_-1)**i)/fact(i,1) for i in range(1,100)])\n",
    "    return nat_log(x)/nat_log(base)\n",
    "\n",
    "print(my_log(1) - math.log(1), my_exp(100) - math.exp(100), my_cos(45) - my_sin(45))"
   ]
  }
 ],
 "metadata": {
  "kernelspec": {
   "display_name": "Python 3",
   "language": "python",
   "name": "python3"
  },
  "language_info": {
   "codemirror_mode": {
    "name": "ipython",
    "version": 3
   },
   "file_extension": ".py",
   "mimetype": "text/x-python",
   "name": "python",
   "nbconvert_exporter": "python",
   "pygments_lexer": "ipython3",
   "version": "3.6.5"
  }
 },
 "nbformat": 4,
 "nbformat_minor": 2
}
