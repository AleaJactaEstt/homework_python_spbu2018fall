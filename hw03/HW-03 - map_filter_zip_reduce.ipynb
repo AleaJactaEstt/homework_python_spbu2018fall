{
 "cells": [
  {
   "cell_type": "code",
   "execution_count": null,
   "metadata": {},
   "outputs": [],
   "source": [
    "from random import randint\n",
    "from random import uniform"
   ]
  },
  {
   "cell_type": "markdown",
   "metadata": {},
   "source": [
    "# Задача № 1\n",
    "\n",
    "Дан массив чисел, содержащий значение температуры за последний 10 дней (сгенерируйте массив чисел с плавающей точкой от 10 до 25).\n",
    "\n",
    "- Рассчитайте массив чисел, который содежит соответствующие значения в [Фаренгейтах](https://ru.wikipedia.org/wiki/%D0%93%D1%80%D0%B0%D0%B4%D1%83%D1%81_%D0%A4%D0%B0%D1%80%D0%B5%D0%BD%D0%B3%D0%B5%D0%B9%D1%82%D0%B0).\n",
    "\n",
    "- Рассчитайте массив чисел, который преобразует значения в Фаренгейтах в значения по [Кельвину](https://ru.wikipedia.org/wiki/%D0%9A%D0%B5%D0%BB%D1%8C%D0%B2%D0%B8%D0%BD)\n",
    "\n",
    "- Значения по Кельвину преобразуйте в градусы Цельсия и сравните полученный результат с исходным массивом (выведите разность)."
   ]
  },
  {
   "cell_type": "code",
   "execution_count": null,
   "metadata": {},
   "outputs": [],
   "source": [
    "NUM_OF_DAYS = 10\n",
    "t_degrees = [uniform(10, 25) for i in range(NUM_OF_DAYS)]\n",
    "t_fare = list(map(lambda x: 1.8*x+32, t_degrees))\n",
    "t_calv = list(map(lambda x: (x-32)/1.8+273.15, t_fare))\n",
    "\n",
    "print([t_degrees[i] - (t_calv[i]-273.15) for i in range(len(t_calv))])"
   ]
  },
  {
   "cell_type": "markdown",
   "metadata": {},
   "source": [
    "# Задача № 2\n",
    "\n",
    "Дан словарь.\n",
    "Напишите функцию, которая возвращает словарь, состоящий из элементов исходного с ключами типа String.\n",
    "\n",
    "Например:  \n",
    "\n",
    "`Вход`: \n",
    "```python\n",
    "{'x':2, 4:'y', 4.0:'12', '3':'fdfs', 'a':9., b'pp':52}\n",
    "```\n",
    "\n",
    "`Выход`:\n",
    "```python\n",
    "{'x': 2, '3': 'fdfs', 'a': 9.0}\n",
    "```"
   ]
  },
  {
   "cell_type": "code",
   "execution_count": null,
   "metadata": {},
   "outputs": [],
   "source": [
    "def getStrKeys(d):\n",
    "    dictlist = zip(d.keys(), d.values())\n",
    "    dictlist = filter(lambda x: type(x[0]) == type(\"I LOVE FUNCTIONAL PROGRAMMING\"), dictlist)\n",
    "    return dict(dictlist)\n",
    "\n",
    "a = {'x':2, 4:'y', 4.0:'12', '3':'fdfs', 'a':9., b'pp':52}\n",
    "getStrKeys(a)"
   ]
  },
  {
   "cell_type": "markdown",
   "metadata": {},
   "source": [
    "# Задача № 3\n",
    "\n",
    "- Сгенерируйте два массива $a$ и $b$ одинаковой случайной длины $n$ (от 4 до 8 чисел) случайных чисел от 1 до 10\n",
    "- Посчитайте $\\prod\\limits_{i = 0}^{n-1} (a[i] + b[n-1-i])$, используя только функции __map, zip, filter, reduce__"
   ]
  },
  {
   "cell_type": "code",
   "execution_count": null,
   "metadata": {},
   "outputs": [],
   "source": [
    "from functools import reduce\n",
    "n = randint(4,8)\n",
    "a = [randint(4,8) for i in range(n)]\n",
    "b = [randint(4,8) for i in range(n)]\n",
    "res = reduce(lambda x,y: x*y, list(map(lambda x: x[0] + x[1], zip(a,b[::-1]))))"
   ]
  },
  {
   "cell_type": "code",
   "execution_count": null,
   "metadata": {},
   "outputs": [],
   "source": [
    "# CHECK \n",
    "prod = 1\n",
    "\n",
    "for i in range(len(a)):\n",
    "    prod = prod*(a[i] + b[n-1-i])\n",
    "    \n",
    "print(prod - res) # If 0 then is correct (and it's not the same as print(0))"
   ]
  }
 ],
 "metadata": {
  "kernelspec": {
   "display_name": "Python 3",
   "language": "python",
   "name": "python3"
  },
  "language_info": {
   "codemirror_mode": {
    "name": "ipython",
    "version": 3
   },
   "file_extension": ".py",
   "mimetype": "text/x-python",
   "name": "python",
   "nbconvert_exporter": "python",
   "pygments_lexer": "ipython3",
   "version": "3.6.5"
  }
 },
 "nbformat": 4,
 "nbformat_minor": 2
}
